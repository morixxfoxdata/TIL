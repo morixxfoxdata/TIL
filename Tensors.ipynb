{
  "nbformat": 4,
  "nbformat_minor": 0,
  "metadata": {
    "colab": {
      "provenance": [],
      "gpuType": "T4",
      "authorship_tag": "ABX9TyNVH72AOqEU7QBqtXAX55Ly",
      "include_colab_link": true
    },
    "kernelspec": {
      "name": "python3",
      "display_name": "Python 3"
    },
    "language_info": {
      "name": "python"
    },
    "accelerator": "GPU"
  },
  "cells": [
    {
      "cell_type": "markdown",
      "metadata": {
        "id": "view-in-github",
        "colab_type": "text"
      },
      "source": [
        "<a href=\"https://colab.research.google.com/github/morixxfoxdata/TIL/blob/main/Tensors.ipynb\" target=\"_parent\"><img src=\"https://colab.research.google.com/assets/colab-badge.svg\" alt=\"Open In Colab\"/></a>"
      ]
    },
    {
      "cell_type": "markdown",
      "source": [
        "# PyTorch入門：1. テンソル\n",
        "\n",
        "テンソルは配列や行列によく似ている.\n",
        "\n",
        "PyTorchではテンソル型の変数を利用する."
      ],
      "metadata": {
        "id": "3ZzUYAb9d4_U"
      }
    },
    {
      "cell_type": "markdown",
      "source": [
        "テンソルはnumpyのndarraysに似ているが, GPUで動作できるという違いがある.\n",
        "\n",
        "テンソルとNumPy配列は同じメモリを共有できるため, 2つの型の間での変換時にはデータをコピーする必要がない."
      ],
      "metadata": {
        "id": "1YtYZdCDeb84"
      }
    },
    {
      "cell_type": "code",
      "execution_count": 1,
      "metadata": {
        "id": "J_spk6oodlhy"
      },
      "outputs": [],
      "source": [
        "%matplotlib inline"
      ]
    },
    {
      "cell_type": "code",
      "source": [
        "import torch\n",
        "import numpy as np"
      ],
      "metadata": {
        "id": "DYt-H-RVfMWR"
      },
      "execution_count": 2,
      "outputs": []
    },
    {
      "cell_type": "markdown",
      "source": [
        "# テンソルの初期化"
      ],
      "metadata": {
        "id": "S7XuI8-rfTGT"
      }
    },
    {
      "cell_type": "markdown",
      "source": [
        "**データから直接テンソルに変換**\n",
        "\n",
        "直接変換した際は, データ型が自動で推測される."
      ],
      "metadata": {
        "id": "q5AUkJPffaRN"
      }
    },
    {
      "cell_type": "code",
      "source": [
        "data = [[1, 2], [3, 4]]\n",
        "x_data = torch.tensor(data)"
      ],
      "metadata": {
        "id": "0vWwJs5LfQOE"
      },
      "execution_count": 3,
      "outputs": []
    },
    {
      "cell_type": "code",
      "source": [
        "print(type(data))\n",
        "print(type(x_data))"
      ],
      "metadata": {
        "colab": {
          "base_uri": "https://localhost:8080/"
        },
        "id": "14jZsTYP00WX",
        "outputId": "a9c8a8b0-5efd-4d87-94e7-9cea03e57e6a"
      },
      "execution_count": 4,
      "outputs": [
        {
          "output_type": "stream",
          "name": "stdout",
          "text": [
            "<class 'list'>\n",
            "<class 'torch.Tensor'>\n"
          ]
        }
      ]
    },
    {
      "cell_type": "markdown",
      "source": [
        "**NumPy arrayからテンソルに変換**\n",
        "\n",
        "tensorとNumpy arraysは相互に互換可能"
      ],
      "metadata": {
        "id": "1VGSPjj51BVt"
      }
    },
    {
      "cell_type": "code",
      "source": [
        "np_array = np.array(data)\n",
        "x_np = torch.from_numpy(np_array)"
      ],
      "metadata": {
        "id": "CoYtXQh906VA"
      },
      "execution_count": 5,
      "outputs": []
    },
    {
      "cell_type": "code",
      "source": [
        "print(type(np_array))\n",
        "print(type(x_np))"
      ],
      "metadata": {
        "colab": {
          "base_uri": "https://localhost:8080/"
        },
        "id": "Ur0DZgAW1W4Z",
        "outputId": "1ab0a3ba-b1bd-48b9-9afc-470df5534852"
      },
      "execution_count": 6,
      "outputs": [
        {
          "output_type": "stream",
          "name": "stdout",
          "text": [
            "<class 'numpy.ndarray'>\n",
            "<class 'torch.Tensor'>\n"
          ]
        }
      ]
    },
    {
      "cell_type": "markdown",
      "source": [
        "**他のテンソルからの作成**\n",
        "\n",
        "他のTensorから新しいTensorを作成する場合, 明示的に上書きされない限り,  \n",
        "引数のTensorのプロパティ（形状,　データ型）を保持する"
      ],
      "metadata": {
        "id": "54suB4fN1kCM"
      }
    },
    {
      "cell_type": "code",
      "source": [
        "x_ones = torch.ones_like(x_data)\n",
        "print(f\"Ones Tensor: \\n {x_ones} \\n\")\n",
        "\n",
        "x_rand = torch.rand_like(x_data, dtype=torch.float)\n",
        "print(f\"Random Tensor: \\n {x_rand} \\n\")"
      ],
      "metadata": {
        "colab": {
          "base_uri": "https://localhost:8080/"
        },
        "id": "rrt7xwHG1bXx",
        "outputId": "42c0f205-0540-4663-aab8-832262634ec2"
      },
      "execution_count": 7,
      "outputs": [
        {
          "output_type": "stream",
          "name": "stdout",
          "text": [
            "Ones Tensor: \n",
            " tensor([[1, 1],\n",
            "        [1, 1]]) \n",
            "\n",
            "Random Tensor: \n",
            " tensor([[0.6133, 0.9434],\n",
            "        [0.1234, 0.2310]]) \n",
            "\n"
          ]
        }
      ]
    },
    {
      "cell_type": "markdown",
      "source": [
        "**ランダム値や定数のテンソルの作成**\n",
        "\n",
        "shapeは, テンソルの次元を示すタプル.\n",
        "\n",
        "以下の例では, shapeからテンソルのサイズを決めている"
      ],
      "metadata": {
        "id": "yI6kmWl73JHN"
      }
    },
    {
      "cell_type": "code",
      "source": [
        "shape = (2, 3)\n",
        "rand_tensor = torch.rand(shape)\n",
        "ones_tensor = torch.ones(shape)\n",
        "zeros_tensor = torch.zeros(shape)\n",
        "\n",
        "print(f\"Random Tensor: \\n {rand_tensor} \\n\")\n",
        "print(f\"Ones Tensor: \\n {ones_tensor} \\n\")\n",
        "print(f\"Zeros Tensor: \\n {zeros_tensor}\")"
      ],
      "metadata": {
        "colab": {
          "base_uri": "https://localhost:8080/"
        },
        "id": "EHXD9OQC2reJ",
        "outputId": "3790d57a-d6c8-43a1-d7e3-d64c74635197"
      },
      "execution_count": 8,
      "outputs": [
        {
          "output_type": "stream",
          "name": "stdout",
          "text": [
            "Random Tensor: \n",
            " tensor([[0.7081, 0.4688, 0.7892],\n",
            "        [0.7601, 0.8513, 0.8582]]) \n",
            "\n",
            "Ones Tensor: \n",
            " tensor([[1., 1., 1.],\n",
            "        [1., 1., 1.]]) \n",
            "\n",
            "Zeros Tensor: \n",
            " tensor([[0., 0., 0.],\n",
            "        [0., 0., 0.]])\n"
          ]
        }
      ]
    },
    {
      "cell_type": "markdown",
      "source": [
        "# テンソルの属性変数"
      ],
      "metadata": {
        "id": "pvyzfkXf3tHg"
      }
    },
    {
      "cell_type": "markdown",
      "source": [
        "テンソルは属性変数として、形状、データ型、保存されているデバイスを保持している"
      ],
      "metadata": {
        "id": "aNNY1Eo73opD"
      }
    },
    {
      "cell_type": "code",
      "source": [
        "tensor = torch.rand(3,4)\n",
        "\n",
        "print(f\"Shape of tensor: {tensor.shape}\")\n",
        "print(f\"Datatype of tensor: {tensor.dtype}\")\n",
        "print(f\"Device tensor is stored on: {tensor.device}\")"
      ],
      "metadata": {
        "colab": {
          "base_uri": "https://localhost:8080/"
        },
        "id": "60NPWK8V3jHx",
        "outputId": "09d9be74-4a10-423a-eda9-21a52607775e"
      },
      "execution_count": 9,
      "outputs": [
        {
          "output_type": "stream",
          "name": "stdout",
          "text": [
            "Shape of tensor: torch.Size([3, 4])\n",
            "Datatype of tensor: torch.float32\n",
            "Device tensor is stored on: cpu\n"
          ]
        }
      ]
    },
    {
      "cell_type": "markdown",
      "source": [
        "# テンソルの操作"
      ],
      "metadata": {
        "id": "HlG4Rvoh4PIP"
      }
    },
    {
      "cell_type": "markdown",
      "source": [
        "PyTorchでは、算術、線形代数、行列操作など、100種類以上のテンソル演算ができる"
      ],
      "metadata": {
        "id": "98wmWc-b4SXe"
      }
    },
    {
      "cell_type": "markdown",
      "source": [
        "各操作はGPUで実行可能。\n",
        "\n",
        "デフォルトではテンソルはCPU上で作られる。\n",
        "\n",
        "以下のようにしてGPUへ移動できるが、大きなテンソルをコピーすると時間とメモリ面でコストがかかる。"
      ],
      "metadata": {
        "id": "uyDfV9Lb4pYw"
      }
    },
    {
      "cell_type": "code",
      "source": [
        "if torch.cuda.is_available():\n",
        "    tensor = tensor.to('cuda')"
      ],
      "metadata": {
        "id": "xj3ElVhW4L3r"
      },
      "execution_count": 10,
      "outputs": []
    },
    {
      "cell_type": "markdown",
      "source": [
        "**numpy-likeなindexingとslicing:**"
      ],
      "metadata": {
        "id": "gUBoJiKX5Dze"
      }
    },
    {
      "cell_type": "code",
      "source": [
        "tensor = torch.ones(4, 4)\n",
        "print('First row:', tensor[0])\n",
        "print('First column:', tensor[:, 0])\n",
        "print('Last column:', tensor[:, -1])\n",
        "tensor[:, 1] = 0\n",
        "print(tensor)"
      ],
      "metadata": {
        "colab": {
          "base_uri": "https://localhost:8080/"
        },
        "id": "WyT5KKai5Bn_",
        "outputId": "b6281372-9d0a-4c2f-ee81-d20b1aee1429"
      },
      "execution_count": 13,
      "outputs": [
        {
          "output_type": "stream",
          "name": "stdout",
          "text": [
            "First row: tensor([1., 1., 1., 1.])\n",
            "First column: tensor([1., 1., 1., 1.])\n",
            "Last column: tensor([1., 1., 1., 1.])\n",
            "tensor([[1., 0., 1., 1.],\n",
            "        [1., 0., 1., 1.],\n",
            "        [1., 0., 1., 1.],\n",
            "        [1., 0., 1., 1.]])\n"
          ]
        }
      ]
    },
    {
      "cell_type": "markdown",
      "source": [
        "**tensorの結合**"
      ],
      "metadata": {
        "id": "Xu9tGuVYAqk6"
      }
    },
    {
      "cell_type": "markdown",
      "source": [
        "torch.catを用いて特定の次元に沿って結合できる"
      ],
      "metadata": {
        "id": "HxWF5mbBAvGt"
      }
    },
    {
      "cell_type": "code",
      "source": [
        "t1 = torch.cat([tensor, tensor, tensor], dim=1)\n",
        "print(t1)\n",
        "print(t1.shape)"
      ],
      "metadata": {
        "colab": {
          "base_uri": "https://localhost:8080/"
        },
        "id": "tWEiyBdLAqPz",
        "outputId": "812f2bae-4c6b-4862-eeaa-717323705b1b"
      },
      "execution_count": 15,
      "outputs": [
        {
          "output_type": "stream",
          "name": "stdout",
          "text": [
            "tensor([[1., 0., 1., 1., 1., 0., 1., 1., 1., 0., 1., 1.],\n",
            "        [1., 0., 1., 1., 1., 0., 1., 1., 1., 0., 1., 1.],\n",
            "        [1., 0., 1., 1., 1., 0., 1., 1., 1., 0., 1., 1.],\n",
            "        [1., 0., 1., 1., 1., 0., 1., 1., 1., 0., 1., 1.]])\n",
            "torch.Size([4, 12])\n"
          ]
        }
      ]
    },
    {
      "cell_type": "markdown",
      "source": [
        "torch.stackについても試す"
      ],
      "metadata": {
        "id": "sdIBtZnUBz1O"
      }
    },
    {
      "cell_type": "code",
      "source": [
        "t2 = torch.stack((tensor, tensor), dim=2)\n",
        "print(t2)\n",
        "print(t2.shape)"
      ],
      "metadata": {
        "colab": {
          "base_uri": "https://localhost:8080/"
        },
        "id": "h0e18i_jAfO-",
        "outputId": "2f60d5b0-3045-496b-b30a-c8203b91e213"
      },
      "execution_count": 20,
      "outputs": [
        {
          "output_type": "stream",
          "name": "stdout",
          "text": [
            "tensor([[[1., 1.],\n",
            "         [0., 0.],\n",
            "         [1., 1.],\n",
            "         [1., 1.]],\n",
            "\n",
            "        [[1., 1.],\n",
            "         [0., 0.],\n",
            "         [1., 1.],\n",
            "         [1., 1.]],\n",
            "\n",
            "        [[1., 1.],\n",
            "         [0., 0.],\n",
            "         [1., 1.],\n",
            "         [1., 1.]],\n",
            "\n",
            "        [[1., 1.],\n",
            "         [0., 0.],\n",
            "         [1., 1.],\n",
            "         [1., 1.]]])\n",
            "torch.Size([4, 4, 2])\n"
          ]
        }
      ]
    },
    {
      "cell_type": "markdown",
      "source": [
        "catは既存の次元に沿って結合だが,  \n",
        "stackは次元を増やすことができる"
      ],
      "metadata": {
        "id": "jz652WvSCJRW"
      }
    },
    {
      "cell_type": "markdown",
      "source": [
        "**算術演算**"
      ],
      "metadata": {
        "id": "Apw7zeSrCqqZ"
      }
    },
    {
      "cell_type": "code",
      "source": [
        "# 2つのテンソル行列の掛け算\n",
        "y1 = tensor @ tensor.T\n",
        "y2 = tensor.matmul(tensor.T)\n",
        "print(tensor)\n",
        "y3 = torch.rand_like(tensor)\n",
        "torch.matmul(tensor, tensor.T, out=y3)\n",
        "print(y3)"
      ],
      "metadata": {
        "colab": {
          "base_uri": "https://localhost:8080/"
        },
        "id": "WKOOm1FVB8LC",
        "outputId": "f7821487-93e3-4047-a8f2-12e9793feeef"
      },
      "execution_count": 26,
      "outputs": [
        {
          "output_type": "stream",
          "name": "stdout",
          "text": [
            "tensor([[1., 0., 1., 1.],\n",
            "        [1., 0., 1., 1.],\n",
            "        [1., 0., 1., 1.],\n",
            "        [1., 0., 1., 1.]])\n",
            "tensor([[3., 3., 3., 3.],\n",
            "        [3., 3., 3., 3.],\n",
            "        [3., 3., 3., 3.],\n",
            "        [3., 3., 3., 3.]])\n"
          ]
        }
      ]
    },
    {
      "cell_type": "code",
      "source": [
        "# 要素ごとの積\n",
        "z1 = tensor * tensor\n",
        "z2 = tensor.mul(tensor)\n",
        "\n",
        "z3 = torch.rand_like(tensor)\n",
        "torch.mul(tensor, tensor, out=z3)"
      ],
      "metadata": {
        "colab": {
          "base_uri": "https://localhost:8080/"
        },
        "id": "KkXy7gPlDCm1",
        "outputId": "dde257cb-fc21-4f82-9013-501d015275e5"
      },
      "execution_count": 27,
      "outputs": [
        {
          "output_type": "execute_result",
          "data": {
            "text/plain": [
              "tensor([[1., 0., 1., 1.],\n",
              "        [1., 0., 1., 1.],\n",
              "        [1., 0., 1., 1.],\n",
              "        [1., 0., 1., 1.]])"
            ]
          },
          "metadata": {},
          "execution_count": 27
        }
      ]
    },
    {
      "cell_type": "markdown",
      "source": [
        "**1要素のテンソル**\n",
        "\n",
        "１要素のテンソルを扱うには, .item()を使用することでPythonの数値型に変更できる"
      ],
      "metadata": {
        "id": "ZBouMF88D8Gk"
      }
    },
    {
      "cell_type": "code",
      "source": [
        "agg = tensor.sum()\n",
        "agg_item = agg.item()\n",
        "print(agg_item, type(agg_item))"
      ],
      "metadata": {
        "colab": {
          "base_uri": "https://localhost:8080/"
        },
        "id": "RVjalr5YDpDw",
        "outputId": "1bae3184-b6e4-48b9-a273-e6602af1d733"
      },
      "execution_count": 30,
      "outputs": [
        {
          "output_type": "stream",
          "name": "stdout",
          "text": [
            "12.0 <class 'float'>\n"
          ]
        }
      ]
    },
    {
      "cell_type": "markdown",
      "source": [
        "**インプレース操作**\n",
        "\n",
        "演算結果をオペランドに格納する演算をインプレースという."
      ],
      "metadata": {
        "id": "J4cdz36VEbBa"
      }
    },
    {
      "cell_type": "code",
      "source": [
        "print(tensor, \"\\n\")\n",
        "tensor.add_(5)\n",
        "print(tensor)"
      ],
      "metadata": {
        "colab": {
          "base_uri": "https://localhost:8080/"
        },
        "id": "tTM1l2s4EO0g",
        "outputId": "ed5634c0-a728-4ef2-fbff-c3ae183ce510"
      },
      "execution_count": 31,
      "outputs": [
        {
          "output_type": "stream",
          "name": "stdout",
          "text": [
            "tensor([[1., 0., 1., 1.],\n",
            "        [1., 0., 1., 1.],\n",
            "        [1., 0., 1., 1.],\n",
            "        [1., 0., 1., 1.]]) \n",
            "\n",
            "tensor([[6., 5., 6., 6.],\n",
            "        [6., 5., 6., 6.],\n",
            "        [6., 5., 6., 6.],\n",
            "        [6., 5., 6., 6.]])\n"
          ]
        }
      ]
    },
    {
      "cell_type": "markdown",
      "source": [
        "メモリ節約になるが演算履歴が失われるので微分計算の際に問題になることに注意"
      ],
      "metadata": {
        "id": "zjErS_ATEqKV"
      }
    },
    {
      "cell_type": "markdown",
      "source": [
        "# NumPyとの交換"
      ],
      "metadata": {
        "id": "vDkq5mbHExx5"
      }
    },
    {
      "cell_type": "markdown",
      "source": [
        "CPU上のテンソルとNumpy arraysは同じメモリを共有でき、相互変換が容易"
      ],
      "metadata": {
        "id": "9fPk4dJlE2ZU"
      }
    },
    {
      "cell_type": "markdown",
      "source": [
        "**Tensor to NumPy array**"
      ],
      "metadata": {
        "id": "W3fWzDSIE96f"
      }
    },
    {
      "cell_type": "code",
      "source": [
        "t = torch.ones(5)\n",
        "print(f\"t: {t}\")\n",
        "n = t.numpy()\n",
        "print(f\"n: {n}\")"
      ],
      "metadata": {
        "colab": {
          "base_uri": "https://localhost:8080/"
        },
        "id": "azI4jHp6Eoyr",
        "outputId": "a5caff06-5174-4da3-d226-bebeecf69936"
      },
      "execution_count": 32,
      "outputs": [
        {
          "output_type": "stream",
          "name": "stdout",
          "text": [
            "t: tensor([1., 1., 1., 1., 1.])\n",
            "n: [1. 1. 1. 1. 1.]\n"
          ]
        }
      ]
    },
    {
      "cell_type": "markdown",
      "source": [
        "この際、テンソルが変化するとNumpy側も変化する（tとnがメモリを共有しているため）"
      ],
      "metadata": {
        "id": "HvPmYuppFNiy"
      }
    },
    {
      "cell_type": "code",
      "source": [
        "t.add_(1)\n",
        "print(f\"n:{n}\")"
      ],
      "metadata": {
        "colab": {
          "base_uri": "https://localhost:8080/"
        },
        "id": "mnd7BK0DFMIS",
        "outputId": "a0b1cae0-8985-4bf4-b92d-7a545f972f81"
      },
      "execution_count": 33,
      "outputs": [
        {
          "output_type": "stream",
          "name": "stdout",
          "text": [
            "n:[2. 2. 2. 2. 2.]\n"
          ]
        }
      ]
    },
    {
      "cell_type": "markdown",
      "source": [
        "**Numpy arrays to Tensor**"
      ],
      "metadata": {
        "id": "JMNJCH-IFj5k"
      }
    },
    {
      "cell_type": "code",
      "source": [
        "n = np.ones(5)\n",
        "t = torch.from_numpy(n)"
      ],
      "metadata": {
        "id": "SD6BxBw7Fjrb"
      },
      "execution_count": 34,
      "outputs": []
    },
    {
      "cell_type": "markdown",
      "source": [
        "Numpy側の変化はテンソル側にも反映される"
      ],
      "metadata": {
        "id": "Nobf1nj1FtlA"
      }
    },
    {
      "cell_type": "code",
      "source": [
        "np.add(n, 1, out=n)\n",
        "print(f\"t: {t}\")\n",
        "print(f\"n: {n}\")"
      ],
      "metadata": {
        "colab": {
          "base_uri": "https://localhost:8080/"
        },
        "id": "hGau75JpFswt",
        "outputId": "8c6adeb4-dc64-49d7-9bd0-1bfc4bd22b7c"
      },
      "execution_count": 35,
      "outputs": [
        {
          "output_type": "stream",
          "name": "stdout",
          "text": [
            "t: tensor([2., 2., 2., 2., 2.], dtype=torch.float64)\n",
            "n: [2. 2. 2. 2. 2.]\n"
          ]
        }
      ]
    }
  ]
}