{
  "cells": [
    {
      "cell_type": "markdown",
      "metadata": {
        "colab_type": "text",
        "id": "view-in-github"
      },
      "source": [
        "<a href=\"https://colab.research.google.com/github/morixxfoxdata/TIL/blob/main/Tensors.ipynb\" target=\"_parent\"><img src=\"https://colab.research.google.com/assets/colab-badge.svg\" alt=\"Open In Colab\"/></a>"
      ]
    },
    {
      "cell_type": "markdown",
      "metadata": {
        "id": "3ZzUYAb9d4_U"
      },
      "source": [
        "# PyTorch入門：1. テンソル\n",
        "\n",
        "テンソルは配列や行列によく似ている.\n",
        "\n",
        "PyTorchではテンソル型の変数を利用する."
      ]
    },
    {
      "cell_type": "markdown",
      "metadata": {
        "id": "1YtYZdCDeb84"
      },
      "source": [
        "テンソルはnumpyのndarraysに似ているが, GPUで動作できるという違いがある.\n",
        "\n",
        "テンソルとNumPy配列は同じメモリを共有できるため, 2つの型の間での変換時にはデータをコピーする必要がない."
      ]
    },
    {
      "cell_type": "code",
      "execution_count": 3,
      "metadata": {
        "id": "J_spk6oodlhy"
      },
      "outputs": [],
      "source": [
        "%matplotlib inline"
      ]
    },
    {
      "cell_type": "code",
      "execution_count": 4,
      "metadata": {
        "id": "DYt-H-RVfMWR"
      },
      "outputs": [],
      "source": [
        "import torch\n",
        "import numpy as np"
      ]
    },
    {
      "cell_type": "markdown",
      "metadata": {
        "id": "S7XuI8-rfTGT"
      },
      "source": [
        "# テンソルの初期化"
      ]
    },
    {
      "cell_type": "markdown",
      "metadata": {
        "id": "q5AUkJPffaRN"
      },
      "source": [
        "**データから直接テンソルに変換**\n",
        "\n",
        "直接変換した際は, データ型が自動で推測される."
      ]
    },
    {
      "cell_type": "code",
      "execution_count": 5,
      "metadata": {
        "id": "0vWwJs5LfQOE"
      },
      "outputs": [],
      "source": [
        "data = [[1, 2], [3, 4]]\n",
        "x_data = torch.tensor(data)"
      ]
    },
    {
      "cell_type": "code",
      "execution_count": 6,
      "metadata": {
        "colab": {
          "base_uri": "https://localhost:8080/"
        },
        "id": "14jZsTYP00WX",
        "outputId": "a9c8a8b0-5efd-4d87-94e7-9cea03e57e6a"
      },
      "outputs": [
        {
          "name": "stdout",
          "output_type": "stream",
          "text": [
            "<class 'list'>\n",
            "<class 'torch.Tensor'>\n"
          ]
        }
      ],
      "source": [
        "print(type(data))\n",
        "print(type(x_data))"
      ]
    },
    {
      "cell_type": "markdown",
      "metadata": {
        "id": "1VGSPjj51BVt"
      },
      "source": [
        "**NumPy arrayからテンソルに変換**\n",
        "\n",
        "tensorとNumpy arraysは相互に互換可能"
      ]
    },
    {
      "cell_type": "code",
      "execution_count": 7,
      "metadata": {
        "id": "CoYtXQh906VA"
      },
      "outputs": [],
      "source": [
        "np_array = np.array(data)\n",
        "x_np = torch.from_numpy(np_array)"
      ]
    },
    {
      "cell_type": "code",
      "execution_count": 8,
      "metadata": {
        "colab": {
          "base_uri": "https://localhost:8080/"
        },
        "id": "Ur0DZgAW1W4Z",
        "outputId": "1ab0a3ba-b1bd-48b9-9afc-470df5534852"
      },
      "outputs": [
        {
          "name": "stdout",
          "output_type": "stream",
          "text": [
            "<class 'numpy.ndarray'>\n",
            "<class 'torch.Tensor'>\n"
          ]
        }
      ],
      "source": [
        "print(type(np_array))\n",
        "print(type(x_np))"
      ]
    },
    {
      "cell_type": "markdown",
      "metadata": {
        "id": "54suB4fN1kCM"
      },
      "source": [
        "**他のテンソルからの作成**\n",
        "\n",
        "他のTensorから新しいTensorを作成する場合, 明示的に上書きされない限り,  \n",
        "引数のTensorのプロパティ（形状,　データ型）を保持する"
      ]
    },
    {
      "cell_type": "code",
      "execution_count": 9,
      "metadata": {
        "colab": {
          "base_uri": "https://localhost:8080/"
        },
        "id": "rrt7xwHG1bXx",
        "outputId": "42c0f205-0540-4663-aab8-832262634ec2"
      },
      "outputs": [
        {
          "name": "stdout",
          "output_type": "stream",
          "text": [
            "Ones Tensor: \n",
            " tensor([[1, 1],\n",
            "        [1, 1]]) \n",
            "\n",
            "Random Tensor: \n",
            " tensor([[0.1998, 0.1610],\n",
            "        [0.7962, 0.8107]]) \n",
            "\n"
          ]
        }
      ],
      "source": [
        "x_ones = torch.ones_like(x_data)\n",
        "print(f\"Ones Tensor: \\n {x_ones} \\n\")\n",
        "\n",
        "x_rand = torch.rand_like(x_data, dtype=torch.float)\n",
        "print(f\"Random Tensor: \\n {x_rand} \\n\")"
      ]
    },
    {
      "cell_type": "markdown",
      "metadata": {
        "id": "yI6kmWl73JHN"
      },
      "source": [
        "**ランダム値や定数のテンソルの作成**\n",
        "\n",
        "shapeは, テンソルの次元を示すタプル.\n",
        "\n",
        "以下の例では, shapeからテンソルのサイズを決めている"
      ]
    },
    {
      "cell_type": "code",
      "execution_count": 10,
      "metadata": {
        "colab": {
          "base_uri": "https://localhost:8080/"
        },
        "id": "EHXD9OQC2reJ",
        "outputId": "3790d57a-d6c8-43a1-d7e3-d64c74635197"
      },
      "outputs": [
        {
          "name": "stdout",
          "output_type": "stream",
          "text": [
            "Random Tensor: \n",
            " tensor([[0.5978, 0.4732, 0.3031],\n",
            "        [0.9214, 0.9862, 0.0968]]) \n",
            "\n",
            "Ones Tensor: \n",
            " tensor([[1., 1., 1.],\n",
            "        [1., 1., 1.]]) \n",
            "\n",
            "Zeros Tensor: \n",
            " tensor([[0., 0., 0.],\n",
            "        [0., 0., 0.]])\n"
          ]
        }
      ],
      "source": [
        "shape = (2, 3)\n",
        "rand_tensor = torch.rand(shape)\n",
        "ones_tensor = torch.ones(shape)\n",
        "zeros_tensor = torch.zeros(shape)\n",
        "\n",
        "print(f\"Random Tensor: \\n {rand_tensor} \\n\")\n",
        "print(f\"Ones Tensor: \\n {ones_tensor} \\n\")\n",
        "print(f\"Zeros Tensor: \\n {zeros_tensor}\")"
      ]
    },
    {
      "cell_type": "markdown",
      "metadata": {
        "id": "pvyzfkXf3tHg"
      },
      "source": [
        "# テンソルの属性変数"
      ]
    },
    {
      "cell_type": "markdown",
      "metadata": {
        "id": "aNNY1Eo73opD"
      },
      "source": [
        "テンソルは属性変数として、形状、データ型、保存されているデバイスを保持している"
      ]
    },
    {
      "cell_type": "code",
      "execution_count": 11,
      "metadata": {
        "colab": {
          "base_uri": "https://localhost:8080/"
        },
        "id": "60NPWK8V3jHx",
        "outputId": "09d9be74-4a10-423a-eda9-21a52607775e"
      },
      "outputs": [
        {
          "name": "stdout",
          "output_type": "stream",
          "text": [
            "Shape of tensor: torch.Size([3, 4])\n",
            "Datatype of tensor: torch.float32\n",
            "Device tensor is stored on: cpu\n"
          ]
        }
      ],
      "source": [
        "tensor = torch.rand(3,4)\n",
        "\n",
        "print(f\"Shape of tensor: {tensor.shape}\")\n",
        "print(f\"Datatype of tensor: {tensor.dtype}\")\n",
        "print(f\"Device tensor is stored on: {tensor.device}\")"
      ]
    },
    {
      "cell_type": "markdown",
      "metadata": {
        "id": "HlG4Rvoh4PIP"
      },
      "source": [
        "# テンソルの操作"
      ]
    },
    {
      "cell_type": "markdown",
      "metadata": {
        "id": "98wmWc-b4SXe"
      },
      "source": [
        "PyTorchでは、算術、線形代数、行列操作など、100種類以上のテンソル演算ができる"
      ]
    },
    {
      "cell_type": "markdown",
      "metadata": {
        "id": "uyDfV9Lb4pYw"
      },
      "source": [
        "各操作はGPUで実行可能。\n",
        "\n",
        "デフォルトではテンソルはCPU上で作られる。\n",
        "\n",
        "以下のようにしてGPUへ移動できるが、大きなテンソルをコピーすると時間とメモリ面でコストがかかる。"
      ]
    },
    {
      "cell_type": "code",
      "execution_count": 13,
      "metadata": {},
      "outputs": [
        {
          "data": {
            "text/plain": [
              "True"
            ]
          },
          "execution_count": 13,
          "metadata": {},
          "output_type": "execute_result"
        }
      ],
      "source": [
        "torch.backends.mps.is_available()"
      ]
    },
    {
      "cell_type": "code",
      "execution_count": 14,
      "metadata": {
        "id": "xj3ElVhW4L3r"
      },
      "outputs": [],
      "source": [
        "if torch.backends.mps.is_available():\n",
        "    tensor = tensor.to('mps')"
      ]
    },
    {
      "cell_type": "markdown",
      "metadata": {
        "id": "gUBoJiKX5Dze"
      },
      "source": [
        "**numpy-likeなindexingとslicing:**"
      ]
    },
    {
      "cell_type": "code",
      "execution_count": 15,
      "metadata": {
        "colab": {
          "base_uri": "https://localhost:8080/"
        },
        "id": "WyT5KKai5Bn_",
        "outputId": "b6281372-9d0a-4c2f-ee81-d20b1aee1429"
      },
      "outputs": [
        {
          "name": "stdout",
          "output_type": "stream",
          "text": [
            "First row: tensor([1., 1., 1., 1.])\n",
            "First column: tensor([1., 1., 1., 1.])\n",
            "Last column: tensor([1., 1., 1., 1.])\n",
            "tensor([[1., 0., 1., 1.],\n",
            "        [1., 0., 1., 1.],\n",
            "        [1., 0., 1., 1.],\n",
            "        [1., 0., 1., 1.]])\n"
          ]
        }
      ],
      "source": [
        "tensor = torch.ones(4, 4)\n",
        "print('First row:', tensor[0])\n",
        "print('First column:', tensor[:, 0])\n",
        "print('Last column:', tensor[:, -1])\n",
        "tensor[:, 1] = 0\n",
        "print(tensor)"
      ]
    },
    {
      "cell_type": "markdown",
      "metadata": {
        "id": "Xu9tGuVYAqk6"
      },
      "source": [
        "**tensorの結合**"
      ]
    },
    {
      "cell_type": "markdown",
      "metadata": {
        "id": "HxWF5mbBAvGt"
      },
      "source": [
        "torch.catを用いて特定の次元に沿って結合できる"
      ]
    },
    {
      "cell_type": "code",
      "execution_count": 16,
      "metadata": {
        "colab": {
          "base_uri": "https://localhost:8080/"
        },
        "id": "tWEiyBdLAqPz",
        "outputId": "812f2bae-4c6b-4862-eeaa-717323705b1b"
      },
      "outputs": [
        {
          "name": "stdout",
          "output_type": "stream",
          "text": [
            "tensor([[1., 0., 1., 1., 1., 0., 1., 1., 1., 0., 1., 1.],\n",
            "        [1., 0., 1., 1., 1., 0., 1., 1., 1., 0., 1., 1.],\n",
            "        [1., 0., 1., 1., 1., 0., 1., 1., 1., 0., 1., 1.],\n",
            "        [1., 0., 1., 1., 1., 0., 1., 1., 1., 0., 1., 1.]])\n",
            "torch.Size([4, 12])\n"
          ]
        }
      ],
      "source": [
        "t1 = torch.cat([tensor, tensor, tensor], dim=1)\n",
        "print(t1)\n",
        "print(t1.shape)"
      ]
    },
    {
      "cell_type": "markdown",
      "metadata": {
        "id": "sdIBtZnUBz1O"
      },
      "source": [
        "torch.stackについても試す"
      ]
    },
    {
      "cell_type": "code",
      "execution_count": 17,
      "metadata": {
        "colab": {
          "base_uri": "https://localhost:8080/"
        },
        "id": "h0e18i_jAfO-",
        "outputId": "2f60d5b0-3045-496b-b30a-c8203b91e213"
      },
      "outputs": [
        {
          "name": "stdout",
          "output_type": "stream",
          "text": [
            "tensor([[[1., 1.],\n",
            "         [0., 0.],\n",
            "         [1., 1.],\n",
            "         [1., 1.]],\n",
            "\n",
            "        [[1., 1.],\n",
            "         [0., 0.],\n",
            "         [1., 1.],\n",
            "         [1., 1.]],\n",
            "\n",
            "        [[1., 1.],\n",
            "         [0., 0.],\n",
            "         [1., 1.],\n",
            "         [1., 1.]],\n",
            "\n",
            "        [[1., 1.],\n",
            "         [0., 0.],\n",
            "         [1., 1.],\n",
            "         [1., 1.]]])\n",
            "torch.Size([4, 4, 2])\n"
          ]
        }
      ],
      "source": [
        "t2 = torch.stack((tensor, tensor), dim=2)\n",
        "print(t2)\n",
        "print(t2.shape)"
      ]
    },
    {
      "cell_type": "markdown",
      "metadata": {
        "id": "jz652WvSCJRW"
      },
      "source": [
        "catは既存の次元に沿って結合だが,  \n",
        "stackは次元を増やすことができる"
      ]
    },
    {
      "cell_type": "markdown",
      "metadata": {
        "id": "Apw7zeSrCqqZ"
      },
      "source": [
        "**算術演算**"
      ]
    },
    {
      "cell_type": "code",
      "execution_count": 18,
      "metadata": {
        "colab": {
          "base_uri": "https://localhost:8080/"
        },
        "id": "WKOOm1FVB8LC",
        "outputId": "f7821487-93e3-4047-a8f2-12e9793feeef"
      },
      "outputs": [
        {
          "name": "stdout",
          "output_type": "stream",
          "text": [
            "tensor([[1., 0., 1., 1.],\n",
            "        [1., 0., 1., 1.],\n",
            "        [1., 0., 1., 1.],\n",
            "        [1., 0., 1., 1.]])\n",
            "tensor([[3., 3., 3., 3.],\n",
            "        [3., 3., 3., 3.],\n",
            "        [3., 3., 3., 3.],\n",
            "        [3., 3., 3., 3.]])\n"
          ]
        }
      ],
      "source": [
        "# 2つのテンソル行列の掛け算\n",
        "y1 = tensor @ tensor.T\n",
        "y2 = tensor.matmul(tensor.T)\n",
        "print(tensor)\n",
        "y3 = torch.rand_like(tensor)\n",
        "torch.matmul(tensor, tensor.T, out=y3)\n",
        "print(y3)"
      ]
    },
    {
      "cell_type": "code",
      "execution_count": 19,
      "metadata": {
        "colab": {
          "base_uri": "https://localhost:8080/"
        },
        "id": "KkXy7gPlDCm1",
        "outputId": "dde257cb-fc21-4f82-9013-501d015275e5"
      },
      "outputs": [
        {
          "data": {
            "text/plain": [
              "tensor([[1., 0., 1., 1.],\n",
              "        [1., 0., 1., 1.],\n",
              "        [1., 0., 1., 1.],\n",
              "        [1., 0., 1., 1.]])"
            ]
          },
          "execution_count": 19,
          "metadata": {},
          "output_type": "execute_result"
        }
      ],
      "source": [
        "# 要素ごとの積\n",
        "z1 = tensor * tensor\n",
        "z2 = tensor.mul(tensor)\n",
        "\n",
        "z3 = torch.rand_like(tensor)\n",
        "torch.mul(tensor, tensor, out=z3)"
      ]
    },
    {
      "cell_type": "markdown",
      "metadata": {
        "id": "ZBouMF88D8Gk"
      },
      "source": [
        "**1要素のテンソル**\n",
        "\n",
        "１要素のテンソルを扱うには, .item()を使用することでPythonの数値型に変更できる"
      ]
    },
    {
      "cell_type": "code",
      "execution_count": 20,
      "metadata": {
        "colab": {
          "base_uri": "https://localhost:8080/"
        },
        "id": "RVjalr5YDpDw",
        "outputId": "1bae3184-b6e4-48b9-a273-e6602af1d733"
      },
      "outputs": [
        {
          "name": "stdout",
          "output_type": "stream",
          "text": [
            "12.0 <class 'float'>\n"
          ]
        }
      ],
      "source": [
        "agg = tensor.sum()\n",
        "agg_item = agg.item()\n",
        "print(agg_item, type(agg_item))"
      ]
    },
    {
      "cell_type": "markdown",
      "metadata": {
        "id": "J4cdz36VEbBa"
      },
      "source": [
        "**インプレース操作**\n",
        "\n",
        "演算結果をオペランドに格納する演算をインプレースという."
      ]
    },
    {
      "cell_type": "code",
      "execution_count": 21,
      "metadata": {
        "colab": {
          "base_uri": "https://localhost:8080/"
        },
        "id": "tTM1l2s4EO0g",
        "outputId": "ed5634c0-a728-4ef2-fbff-c3ae183ce510"
      },
      "outputs": [
        {
          "name": "stdout",
          "output_type": "stream",
          "text": [
            "tensor([[1., 0., 1., 1.],\n",
            "        [1., 0., 1., 1.],\n",
            "        [1., 0., 1., 1.],\n",
            "        [1., 0., 1., 1.]]) \n",
            "\n",
            "tensor([[6., 5., 6., 6.],\n",
            "        [6., 5., 6., 6.],\n",
            "        [6., 5., 6., 6.],\n",
            "        [6., 5., 6., 6.]])\n"
          ]
        }
      ],
      "source": [
        "print(tensor, \"\\n\")\n",
        "tensor.add_(5)\n",
        "print(tensor)"
      ]
    },
    {
      "cell_type": "markdown",
      "metadata": {
        "id": "zjErS_ATEqKV"
      },
      "source": [
        "メモリ節約になるが演算履歴が失われるので微分計算の際に問題になることに注意"
      ]
    },
    {
      "cell_type": "markdown",
      "metadata": {
        "id": "vDkq5mbHExx5"
      },
      "source": [
        "# NumPyとの交換"
      ]
    },
    {
      "cell_type": "markdown",
      "metadata": {
        "id": "9fPk4dJlE2ZU"
      },
      "source": [
        "CPU上のテンソルとNumpy arraysは同じメモリを共有でき、相互変換が容易"
      ]
    },
    {
      "cell_type": "markdown",
      "metadata": {
        "id": "W3fWzDSIE96f"
      },
      "source": [
        "**Tensor to NumPy array**"
      ]
    },
    {
      "cell_type": "code",
      "execution_count": 22,
      "metadata": {
        "colab": {
          "base_uri": "https://localhost:8080/"
        },
        "id": "azI4jHp6Eoyr",
        "outputId": "a5caff06-5174-4da3-d226-bebeecf69936"
      },
      "outputs": [
        {
          "name": "stdout",
          "output_type": "stream",
          "text": [
            "t: tensor([1., 1., 1., 1., 1.])\n",
            "n: [1. 1. 1. 1. 1.]\n"
          ]
        }
      ],
      "source": [
        "t = torch.ones(5)\n",
        "print(f\"t: {t}\")\n",
        "n = t.numpy()\n",
        "print(f\"n: {n}\")"
      ]
    },
    {
      "cell_type": "markdown",
      "metadata": {
        "id": "HvPmYuppFNiy"
      },
      "source": [
        "この際、テンソルが変化するとNumpy側も変化する（tとnがメモリを共有しているため）"
      ]
    },
    {
      "cell_type": "code",
      "execution_count": 23,
      "metadata": {
        "colab": {
          "base_uri": "https://localhost:8080/"
        },
        "id": "mnd7BK0DFMIS",
        "outputId": "a0b1cae0-8985-4bf4-b92d-7a545f972f81"
      },
      "outputs": [
        {
          "name": "stdout",
          "output_type": "stream",
          "text": [
            "n:[2. 2. 2. 2. 2.]\n"
          ]
        }
      ],
      "source": [
        "t.add_(1)\n",
        "print(f\"n:{n}\")"
      ]
    },
    {
      "cell_type": "markdown",
      "metadata": {
        "id": "JMNJCH-IFj5k"
      },
      "source": [
        "**Numpy arrays to Tensor**"
      ]
    },
    {
      "cell_type": "code",
      "execution_count": 24,
      "metadata": {
        "id": "SD6BxBw7Fjrb"
      },
      "outputs": [],
      "source": [
        "n = np.ones(5)\n",
        "t = torch.from_numpy(n)"
      ]
    },
    {
      "cell_type": "markdown",
      "metadata": {
        "id": "Nobf1nj1FtlA"
      },
      "source": [
        "Numpy側の変化はテンソル側にも反映される"
      ]
    },
    {
      "cell_type": "code",
      "execution_count": 25,
      "metadata": {
        "colab": {
          "base_uri": "https://localhost:8080/"
        },
        "id": "hGau75JpFswt",
        "outputId": "8c6adeb4-dc64-49d7-9bd0-1bfc4bd22b7c"
      },
      "outputs": [
        {
          "name": "stdout",
          "output_type": "stream",
          "text": [
            "t: tensor([2., 2., 2., 2., 2.], dtype=torch.float64)\n",
            "n: [2. 2. 2. 2. 2.]\n"
          ]
        }
      ],
      "source": [
        "np.add(n, 1, out=n)\n",
        "print(f\"t: {t}\")\n",
        "print(f\"n: {n}\")"
      ]
    },
    {
      "cell_type": "code",
      "execution_count": null,
      "metadata": {},
      "outputs": [],
      "source": []
    }
  ],
  "metadata": {
    "accelerator": "GPU",
    "colab": {
      "authorship_tag": "ABX9TyNVH72AOqEU7QBqtXAX55Ly",
      "gpuType": "T4",
      "include_colab_link": true,
      "provenance": []
    },
    "kernelspec": {
      "display_name": "Python 3",
      "name": "python3"
    },
    "language_info": {
      "codemirror_mode": {
        "name": "ipython",
        "version": 3
      },
      "file_extension": ".py",
      "mimetype": "text/x-python",
      "name": "python",
      "nbconvert_exporter": "python",
      "pygments_lexer": "ipython3",
      "version": "3.11.7"
    }
  },
  "nbformat": 4,
  "nbformat_minor": 0
}
