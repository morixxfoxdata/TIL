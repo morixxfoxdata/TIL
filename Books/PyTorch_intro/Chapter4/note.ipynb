{
 "cells": [
  {
   "cell_type": "markdown",
   "metadata": {},
   "source": [
    "## 4.1 画像データ"
   ]
  },
  {
   "cell_type": "markdown",
   "metadata": {},
   "source": [
    "### 4.1.2 画像データのロード"
   ]
  },
  {
   "cell_type": "code",
   "execution_count": 1,
   "metadata": {},
   "outputs": [
    {
     "name": "stderr",
     "output_type": "stream",
     "text": [
      "/var/folders/bn/wxtwk7w55bd3xbywj40g_mfw0000gp/T/ipykernel_5052/3814436136.py:3: DeprecationWarning: Starting with ImageIO v3 the behavior of this function will switch to that of iio.v3.imread. To keep the current behavior (and make this warning disappear) use `import imageio.v2 as imageio` or call `imageio.v2.imread` directly.\n",
      "  img_arr = imageio.imread('Books/PyTorch_intro/data/bobby.jpg')\n"
     ]
    },
    {
     "data": {
      "text/plain": [
       "(720, 1280, 3)"
      ]
     },
     "execution_count": 1,
     "metadata": {},
     "output_type": "execute_result"
    }
   ],
   "source": [
    "import imageio\n",
    "\n",
    "img_arr = imageio.imread('Books/PyTorch_intro/data/bobby.jpg')\n",
    "img_arr.shape"
   ]
  },
  {
   "cell_type": "code",
   "execution_count": 2,
   "metadata": {},
   "outputs": [
    {
     "name": "stdout",
     "output_type": "stream",
     "text": [
      "<class 'numpy.ndarray'>\n"
     ]
    }
   ],
   "source": [
    "print(type(img_arr))"
   ]
  },
  {
   "cell_type": "markdown",
   "metadata": {},
   "source": [
    "img_arrは(height, width, channel)のNumpyオブジェクト。  \n",
    "\n",
    "PyTorchのモジュールでは(Channel, height, width)でデータを配置する必要がある"
   ]
  },
  {
   "cell_type": "code",
   "execution_count": 3,
   "metadata": {},
   "outputs": [],
   "source": [
    "import torch"
   ]
  },
  {
   "cell_type": "code",
   "execution_count": 6,
   "metadata": {},
   "outputs": [
    {
     "name": "stdout",
     "output_type": "stream",
     "text": [
      "<class 'torch.Tensor'>\n"
     ]
    },
    {
     "data": {
      "text/plain": [
       "torch.Size([3, 720, 1280])"
      ]
     },
     "execution_count": 6,
     "metadata": {},
     "output_type": "execute_result"
    }
   ],
   "source": [
    "img = torch.from_numpy(img_arr)\n",
    "print(type(img))\n",
    "out = img.permute(2, 0, 1)\n",
    "out.shape"
   ]
  },
  {
   "cell_type": "markdown",
   "metadata": {},
   "source": [
    "NNに入力する複数枚の画像データセットを作成し, 画像テンソルの1次元目にバッチ次元を用意して  \n",
    "(N, C, H, W)という形にして画像セットを表せる."
   ]
  },
  {
   "cell_type": "code",
   "execution_count": 7,
   "metadata": {},
   "outputs": [],
   "source": [
    "batch_size = 3\n",
    "batch = torch.zeros(batch_size, 3, 256, 256, dtype=torch.uint8)"
   ]
  },
  {
   "cell_type": "code",
   "execution_count": 9,
   "metadata": {},
   "outputs": [
    {
     "name": "stdout",
     "output_type": "stream",
     "text": [
      "['cat1.png', 'cat2.png', 'cat3.png']\n"
     ]
    }
   ],
   "source": [
    "import os\n",
    "\n",
    "data_dir = 'Books/PyTorch_intro/Chapter4/data/image-cats/'\n",
    "filenames = [name for name in os.listdir(data_dir)\n",
    "             if os.path.splitext(name)[-1] == '.png']\n",
    "print(filenames)"
   ]
  },
  {
   "cell_type": "code",
   "execution_count": 13,
   "metadata": {},
   "outputs": [
    {
     "name": "stdout",
     "output_type": "stream",
     "text": [
      "torch.Size([3, 3, 256, 256])\n"
     ]
    },
    {
     "name": "stderr",
     "output_type": "stream",
     "text": [
      "/var/folders/bn/wxtwk7w55bd3xbywj40g_mfw0000gp/T/ipykernel_5052/3624832837.py:2: DeprecationWarning: Starting with ImageIO v3 the behavior of this function will switch to that of iio.v3.imread. To keep the current behavior (and make this warning disappear) use `import imageio.v2 as imageio` or call `imageio.v2.imread` directly.\n",
      "  img_arr = imageio.imread(os.path.join(data_dir, filename))\n"
     ]
    }
   ],
   "source": [
    "for i, filename in enumerate(filenames):\n",
    "    img_arr = imageio.imread(os.path.join(data_dir, filename))\n",
    "    img_t = torch.from_numpy(img_arr)\n",
    "    img_t = img_t.permute(2, 0, 1)\n",
    "    img_t = img_t[:3] # 画像によっては3次元目にアルファ値が存在する\n",
    "    batch[i] = img_t\n",
    "print(batch.shape)"
   ]
  },
  {
   "cell_type": "markdown",
   "metadata": {},
   "source": [
    "### 4.1.4 データの正規化"
   ]
  },
  {
   "cell_type": "markdown",
   "metadata": {},
   "source": [
    "NNは0-1, または-1から1の範囲にデータがあることが好ましい."
   ]
  },
  {
   "cell_type": "code",
   "execution_count": 15,
   "metadata": {},
   "outputs": [
    {
     "name": "stdout",
     "output_type": "stream",
     "text": [
      "tensor([[[[2.3991e-03, 2.3376e-03, 1.9070e-03,  ..., 2.3068e-03,\n",
      "           2.2914e-03, 2.4298e-03],\n",
      "          [2.6759e-03, 2.0607e-03, 2.5375e-03,  ..., 1.8454e-03,\n",
      "           2.0915e-03, 2.1223e-03],\n",
      "          [1.9531e-03, 2.3991e-03, 1.6455e-03,  ..., 2.0146e-03,\n",
      "           2.1992e-03, 2.5221e-03],\n",
      "          ...,\n",
      "          [1.7839e-03, 1.9992e-03, 1.9839e-03,  ..., 1.9531e-03,\n",
      "           1.8147e-03, 1.7224e-03],\n",
      "          [1.9839e-03, 1.9992e-03, 1.8916e-03,  ..., 1.7686e-03,\n",
      "           1.8608e-03, 1.7532e-03],\n",
      "          [1.9839e-03, 1.8916e-03, 1.8147e-03,  ..., 1.7378e-03,\n",
      "           1.8608e-03, 1.8454e-03]],\n",
      "\n",
      "         [[2.1376e-03, 2.0761e-03, 1.6763e-03,  ..., 2.0761e-03,\n",
      "           2.0761e-03, 2.2607e-03],\n",
      "          [2.4606e-03, 1.8301e-03, 2.2914e-03,  ..., 1.6148e-03,\n",
      "           1.8762e-03, 1.9070e-03],\n",
      "          [1.7378e-03, 2.1530e-03, 1.3841e-03,  ..., 1.8147e-03,\n",
      "           1.9839e-03, 2.3376e-03],\n",
      "          ...,\n",
      "          [1.5225e-03, 1.6917e-03, 1.7070e-03,  ..., 1.7993e-03,\n",
      "           1.6609e-03, 1.5840e-03],\n",
      "          [1.7070e-03, 1.7070e-03, 1.6301e-03,  ..., 1.6301e-03,\n",
      "           1.7224e-03, 1.6148e-03],\n",
      "          [1.7070e-03, 1.5994e-03, 1.5686e-03,  ..., 1.5840e-03,\n",
      "           1.6917e-03, 1.7070e-03]],\n",
      "\n",
      "         [[1.9839e-03, 1.8916e-03, 1.5071e-03,  ..., 2.0146e-03,\n",
      "           2.0300e-03, 2.2299e-03],\n",
      "          [2.3837e-03, 1.6917e-03, 2.1069e-03,  ..., 1.5686e-03,\n",
      "           1.8301e-03, 1.8608e-03],\n",
      "          [1.5994e-03, 2.0300e-03, 1.2303e-03,  ..., 1.7224e-03,\n",
      "           1.9223e-03, 2.2453e-03],\n",
      "          ...,\n",
      "          [1.4302e-03, 1.6609e-03, 1.6148e-03,  ..., 1.9223e-03,\n",
      "           1.7686e-03, 1.6609e-03],\n",
      "          [1.6609e-03, 1.6609e-03, 1.5071e-03,  ..., 1.6917e-03,\n",
      "           1.7993e-03, 1.6917e-03],\n",
      "          [1.6455e-03, 1.5071e-03, 1.4610e-03,  ..., 1.6609e-03,\n",
      "           1.7686e-03, 1.7839e-03]]],\n",
      "\n",
      "\n",
      "        [[[3.1065e-03, 2.9681e-03, 2.9220e-03,  ..., 1.9992e-04,\n",
      "           1.9992e-04, 1.8454e-04],\n",
      "          [3.0604e-03, 2.9527e-03, 2.9066e-03,  ..., 2.1530e-04,\n",
      "           2.1530e-04, 2.1530e-04],\n",
      "          [3.0450e-03, 2.9681e-03, 2.8912e-03,  ..., 1.8454e-04,\n",
      "           1.8454e-04, 1.8454e-04],\n",
      "          ...,\n",
      "          [1.4302e-03, 1.2611e-03, 1.1688e-03,  ..., 5.5363e-04,\n",
      "           5.5363e-04, 5.5363e-04],\n",
      "          [1.1534e-03, 1.0458e-03, 1.5532e-03,  ..., 5.5363e-04,\n",
      "           5.5363e-04, 5.6901e-04],\n",
      "          [1.3072e-03, 1.5840e-03, 1.3841e-03,  ..., 5.5363e-04,\n",
      "           5.6901e-04, 5.8439e-04]],\n",
      "\n",
      "         [[2.3222e-03, 2.1376e-03, 2.0454e-03,  ..., 1.3841e-04,\n",
      "           1.3841e-04, 1.2303e-04],\n",
      "          [2.3222e-03, 2.1530e-03, 2.0607e-03,  ..., 1.6917e-04,\n",
      "           1.6917e-04, 1.6917e-04],\n",
      "          [2.3376e-03, 2.1992e-03, 2.0607e-03,  ..., 1.6917e-04,\n",
      "           1.6917e-04, 1.6917e-04],\n",
      "          ...,\n",
      "          [8.7659e-04, 6.9204e-04, 5.9977e-04,  ..., 3.9985e-04,\n",
      "           3.9985e-04, 3.9985e-04],\n",
      "          [5.0750e-04, 3.9985e-04, 9.0734e-04,  ..., 3.9985e-04,\n",
      "           3.9985e-04, 4.1522e-04],\n",
      "          [6.1515e-04, 8.9196e-04, 6.9204e-04,  ..., 3.9985e-04,\n",
      "           4.1522e-04, 4.3060e-04]],\n",
      "\n",
      "         [[1.0458e-03, 8.1507e-04, 6.7666e-04,  ..., 9.2272e-05,\n",
      "           9.2272e-05, 7.6894e-05],\n",
      "          [1.0304e-03, 8.3045e-04, 6.7666e-04,  ..., 9.2272e-05,\n",
      "           9.2272e-05, 9.2272e-05],\n",
      "          [1.0304e-03, 8.6121e-04, 6.7666e-04,  ..., 9.2272e-05,\n",
      "           9.2272e-05, 9.2272e-05],\n",
      "          ...,\n",
      "          [4.7674e-04, 2.9220e-04, 1.8454e-04,  ..., 2.6144e-04,\n",
      "           2.6144e-04, 2.6144e-04],\n",
      "          [1.6917e-04, 3.0757e-05, 5.3825e-04,  ..., 2.6144e-04,\n",
      "           2.6144e-04, 2.7682e-04],\n",
      "          [2.9220e-04, 5.6901e-04, 3.3833e-04,  ..., 2.6144e-04,\n",
      "           2.7682e-04, 2.9220e-04]]],\n",
      "\n",
      "\n",
      "        [[[3.6601e-03, 3.6601e-03, 3.6601e-03,  ..., 3.2910e-03,\n",
      "           3.3064e-03, 3.3064e-03],\n",
      "          [3.6601e-03, 3.6601e-03, 3.6601e-03,  ..., 3.2910e-03,\n",
      "           3.3064e-03, 3.3064e-03],\n",
      "          [3.6601e-03, 3.6601e-03, 3.6601e-03,  ..., 3.2910e-03,\n",
      "           3.3064e-03, 3.3064e-03],\n",
      "          ...,\n",
      "          [3.2910e-03, 3.2757e-03, 3.2603e-03,  ..., 2.8758e-03,\n",
      "           2.9220e-03, 2.9681e-03],\n",
      "          [3.2910e-03, 3.2757e-03, 3.2603e-03,  ..., 2.8604e-03,\n",
      "           2.9220e-03, 2.9527e-03],\n",
      "          [3.2910e-03, 3.2757e-03, 3.2603e-03,  ..., 2.8604e-03,\n",
      "           2.9220e-03, 2.9527e-03]],\n",
      "\n",
      "         [[2.9988e-03, 2.9988e-03, 2.9988e-03,  ..., 2.6605e-03,\n",
      "           2.6913e-03, 2.6913e-03],\n",
      "          [2.9988e-03, 2.9988e-03, 2.9988e-03,  ..., 2.6605e-03,\n",
      "           2.6913e-03, 2.6913e-03],\n",
      "          [2.9988e-03, 2.9988e-03, 2.9988e-03,  ..., 2.6605e-03,\n",
      "           2.6913e-03, 2.6913e-03],\n",
      "          ...,\n",
      "          [1.9685e-03, 1.9531e-03, 1.9377e-03,  ..., 1.5379e-03,\n",
      "           1.5840e-03, 1.6301e-03],\n",
      "          [1.9685e-03, 1.9531e-03, 1.9377e-03,  ..., 1.5225e-03,\n",
      "           1.5840e-03, 1.6148e-03],\n",
      "          [1.9685e-03, 1.9531e-03, 1.9377e-03,  ..., 1.5225e-03,\n",
      "           1.5840e-03, 1.6148e-03]],\n",
      "\n",
      "         [[2.1069e-03, 2.1069e-03, 2.1069e-03,  ..., 1.9223e-03,\n",
      "           1.9377e-03, 1.9377e-03],\n",
      "          [2.1069e-03, 2.1069e-03, 2.1069e-03,  ..., 1.9223e-03,\n",
      "           1.9377e-03, 1.9377e-03],\n",
      "          [2.1069e-03, 2.1069e-03, 2.1069e-03,  ..., 1.9223e-03,\n",
      "           1.9377e-03, 1.9377e-03],\n",
      "          ...,\n",
      "          [1.2149e-03, 1.1995e-03, 1.1842e-03,  ..., 9.8424e-04,\n",
      "           1.0458e-03, 1.1073e-03],\n",
      "          [1.2149e-03, 1.1995e-03, 1.1842e-03,  ..., 9.8424e-04,\n",
      "           1.0611e-03, 1.0919e-03],\n",
      "          [1.2149e-03, 1.1995e-03, 1.1842e-03,  ..., 9.9962e-04,\n",
      "           1.0611e-03, 1.1073e-03]]]])\n"
     ]
    }
   ],
   "source": [
    "batch = batch.float()\n",
    "batch /= 255.0\n",
    "print(batch)"
   ]
  },
  {
   "cell_type": "markdown",
   "metadata": {},
   "source": [
    "### 4.2.1 特殊フォーマットの読み込み"
   ]
  },
  {
   "cell_type": "code",
   "execution_count": 26,
   "metadata": {},
   "outputs": [
    {
     "name": "stdout",
     "output_type": "stream",
     "text": [
      "Reading DICOM (examining files): 1/99 files (1.0%99/99 files (100.0%)\n",
      "  Found 1 correct series.\n",
      "Reading DICOM (loading data): 99/99  (100.0%)\n"
     ]
    },
    {
     "data": {
      "text/plain": [
       "(99, 512, 512)"
      ]
     },
     "execution_count": 26,
     "metadata": {},
     "output_type": "execute_result"
    }
   ],
   "source": [
    "import imageio\n",
    "# 全角のファイル名だった\n",
    "dir_path = 'Books/PyTorch_intro/Chapter4/data/volumetric-dicom/2-LUNG 3.0  B70f-04083'\n",
    "vol_arr = imageio.volread(dir_path, 'DICOM')\n",
    "vol_arr.shape"
   ]
  },
  {
   "cell_type": "markdown",
   "metadata": {},
   "source": [
    "次元数がないためunsqueezeで次元追加"
   ]
  },
  {
   "cell_type": "code",
   "execution_count": 28,
   "metadata": {},
   "outputs": [
    {
     "data": {
      "text/plain": [
       "torch.Size([1, 99, 512, 512])"
      ]
     },
     "execution_count": 28,
     "metadata": {},
     "output_type": "execute_result"
    }
   ],
   "source": [
    "vol = torch.from_numpy(vol_arr).float()\n",
    "# 0次元目に追加\n",
    "vol = torch.unsqueeze(vol, 0)\n",
    "vol.shape"
   ]
  },
  {
   "cell_type": "markdown",
   "metadata": {},
   "source": [
    "### 4.3.2 wineデータをテンソルとして読み込む"
   ]
  },
  {
   "cell_type": "code",
   "execution_count": 29,
   "metadata": {},
   "outputs": [
    {
     "data": {
      "text/plain": [
       "array([[ 7.  ,  0.27,  0.36, ...,  0.45,  8.8 ,  6.  ],\n",
       "       [ 6.3 ,  0.3 ,  0.34, ...,  0.49,  9.5 ,  6.  ],\n",
       "       [ 8.1 ,  0.28,  0.4 , ...,  0.44, 10.1 ,  6.  ],\n",
       "       ...,\n",
       "       [ 6.5 ,  0.24,  0.19, ...,  0.46,  9.4 ,  6.  ],\n",
       "       [ 5.5 ,  0.29,  0.3 , ...,  0.38, 12.8 ,  7.  ],\n",
       "       [ 6.  ,  0.21,  0.38, ...,  0.32, 11.8 ,  6.  ]], dtype=float32)"
      ]
     },
     "execution_count": 29,
     "metadata": {},
     "output_type": "execute_result"
    }
   ],
   "source": [
    "import csv\n",
    "import numpy as np\n",
    "wine_path = 'Books/PyTorch_intro/Chapter4/data/tabular-wine/winequality-white.csv'\n",
    "wineq_numpy = np.loadtxt(wine_path, dtype=np.float32, delimiter=\";\", skiprows=1)\n",
    "wineq_numpy"
   ]
  },
  {
   "cell_type": "markdown",
   "metadata": {},
   "source": []
  },
  {
   "cell_type": "markdown",
   "metadata": {},
   "source": []
  },
  {
   "cell_type": "markdown",
   "metadata": {},
   "source": []
  },
  {
   "cell_type": "markdown",
   "metadata": {},
   "source": []
  },
  {
   "cell_type": "markdown",
   "metadata": {},
   "source": []
  },
  {
   "cell_type": "code",
   "execution_count": null,
   "metadata": {},
   "outputs": [],
   "source": []
  }
 ],
 "metadata": {
  "kernelspec": {
   "display_name": "base",
   "language": "python",
   "name": "python3"
  },
  "language_info": {
   "codemirror_mode": {
    "name": "ipython",
    "version": 3
   },
   "file_extension": ".py",
   "mimetype": "text/x-python",
   "name": "python",
   "nbconvert_exporter": "python",
   "pygments_lexer": "ipython3",
   "version": "3.11.7"
  }
 },
 "nbformat": 4,
 "nbformat_minor": 2
}
